{
 "cells": [
  {
   "cell_type": "markdown",
   "metadata": {
    "id": "sPGfCKXebWbH"
   },
   "source": [
    "# Sumarização com similaridade do cosseno"
   ]
  },
  {
   "cell_type": "markdown",
   "metadata": {
    "id": "q8hjBnVEbbEq"
   },
   "source": [
    "## Preparação do texto de exemplo"
   ]
  },
  {
   "cell_type": "code",
   "execution_count": 37,
   "metadata": {
    "id": "m1LwWn7XbPRa"
   },
   "outputs": [],
   "source": [
    "import re\n",
    "import nltk\n",
    "import spacy\n",
    "import heapq\n",
    "import string\n",
    "\n",
    "import numpy    as np\n",
    "import networkx as nx\n",
    "\n",
    "from goose3      import Goose\n",
    "from collections import Counter\n",
    "\n",
    "from nltk.cluster.util    import cosine_distance\n",
    "from IPython.core.display import HTML"
   ]
  },
  {
   "cell_type": "code",
   "execution_count": 2,
   "metadata": {},
   "outputs": [],
   "source": [
    "nlp = spacy.load('pt_core_news_sm')"
   ]
  },
  {
   "cell_type": "code",
   "execution_count": 3,
   "metadata": {},
   "outputs": [
    {
     "data": {
      "text/plain": [
       "True"
      ]
     },
     "execution_count": 3,
     "metadata": {},
     "output_type": "execute_result"
    }
   ],
   "source": [
    "doc = nlp(\"A inteligência artificial é a inteligência similar à humana máquinas.\")\n",
    "doc[-1].is_punct"
   ]
  },
  {
   "cell_type": "code",
   "execution_count": 4,
   "metadata": {
    "id": "TNFbY6H1ervC"
   },
   "outputs": [],
   "source": [
    "def preprocess_sentence(text):\n",
    "    \n",
    "    doc = nlp(text.lower())\n",
    "    \n",
    "    tokens = [token.lemma_ for token in doc if token.is_stop == False and token.is_punct == False]\n",
    "    \n",
    "    return ' '.join(tokens)"
   ]
  },
  {
   "cell_type": "code",
   "execution_count": 5,
   "metadata": {},
   "outputs": [
    {
     "data": {
      "text/plain": [
       "'inteligência artificial inteligência similar humano máquina'"
      ]
     },
     "execution_count": 5,
     "metadata": {},
     "output_type": "execute_result"
    }
   ],
   "source": [
    "preprocess_sentence(\"A inteligência artificial é a inteligência similar à humana máquinas.\")"
   ]
  },
  {
   "cell_type": "code",
   "execution_count": 6,
   "metadata": {
    "colab": {
     "base_uri": "https://localhost:8080/",
     "height": 70
    },
    "id": "KhkaxziLctKz",
    "outputId": "0a2edddd-ddcc-4999-acdc-547c6e44b49c"
   },
   "outputs": [
    {
     "data": {
      "text/plain": [
       "['A inteligência artificial é a inteligência similar à humana máquinas',\n",
       " 'Definem como o estudo de agente artificial com inteligência',\n",
       " 'Ciência e engenharia de produzir máquinas com inteligência',\n",
       " 'Resolver problemas e possuir inteligência',\n",
       " 'Relacionada ao comportamento inteligente',\n",
       " 'Construção de máquinas para raciocinar',\n",
       " 'Aprender com os erros e acertos',\n",
       " 'Inteligência artificial é raciocinar nas situações do cotidiano']"
      ]
     },
     "execution_count": 6,
     "metadata": {},
     "output_type": "execute_result"
    }
   ],
   "source": [
    "original_text = \"\"\"A inteligência artificial é a inteligência similar à humana máquinas.\n",
    "                    Definem como o estudo de agente artificial com inteligência.\n",
    "                    Ciência e engenharia de produzir máquinas com inteligência.\n",
    "                    Resolver problemas e possuir inteligência.\n",
    "                    Relacionada ao comportamento inteligente.\n",
    "                    Construção de máquinas para raciocinar.\n",
    "                    Aprender com os erros e acertos.\n",
    "                    Inteligência artificial é raciocinar nas situações do cotidiano.\"\"\"\n",
    "\n",
    "original_text = re.sub(r'\\s+', ' ', original_text)\n",
    "original_text = re.split(r'\\.', original_text, re.DOTALL)\n",
    "original_text = [re.sub(r'^\\s', '', s, re.MULTILINE) for s in original_text[:-1]]\n",
    "\n",
    "original_text"
   ]
  },
  {
   "cell_type": "markdown",
   "metadata": {
    "id": "UfuFBQ06iahM"
   },
   "source": [
    "## Função para calcular a similaridade entre sentenças\n",
    "\n",
    "- Link: https://en.wikipedia.org/wiki/Cosine_similarity\n",
    "- Cálculos passo a passo: https://janav.wordpress.com/2013/10/27/tf-idf-and-cosine-similarity/"
   ]
  },
  {
   "cell_type": "code",
   "execution_count": 7,
   "metadata": {},
   "outputs": [
    {
     "data": {
      "text/plain": [
       "['inteligência artificial inteligência similar humano máquina',\n",
       " 'definir estudo agente artificial inteligência',\n",
       " 'ciência engenharia produzir máquina inteligência',\n",
       " 'resolver problema possuir inteligência',\n",
       " 'relacionar comportamento inteligente',\n",
       " 'construção máquina raciocinar',\n",
       " 'aprender erro acerto',\n",
       " 'inteligência artificial raciocinar situação cotidiano']"
      ]
     },
     "execution_count": 7,
     "metadata": {},
     "output_type": "execute_result"
    }
   ],
   "source": [
    "preprocessed_sentences = [preprocess_sentence(s) for s in original_text]\n",
    "preprocessed_sentences"
   ]
  },
  {
   "cell_type": "code",
   "execution_count": null,
   "metadata": {},
   "outputs": [],
   "source": []
  },
  {
   "cell_type": "code",
   "execution_count": 11,
   "metadata": {},
   "outputs": [],
   "source": [
    "def calc_sentence_similarity(sentence_one, sentence_two):\n",
    "    \n",
    "    list_words_one = nltk.word_tokenize(sentence_one)\n",
    "    list_words_two = nltk.word_tokenize(sentence_two)\n",
    "    \n",
    "    list_all_words = {word: i for i, word in enumerate(set(list_words_one + list_words_two))}\n",
    "    \n",
    "    counter_one = Counter(list_words_one)\n",
    "    counter_two = Counter(list_words_two)\n",
    "    \n",
    "    array_one = np.array([counter_one.get(word, 0) for word in list_all_words], dtype=int)\n",
    "    array_two = np.array([counter_two.get(word, 0) for word in list_all_words], dtype=int)\n",
    "    \n",
    "    return 1 - cosine_distance(array_one, array_two)"
   ]
  },
  {
   "cell_type": "code",
   "execution_count": 12,
   "metadata": {},
   "outputs": [
    {
     "data": {
      "text/plain": [
       "['inteligência', 'artificial', 'inteligência', 'similar', 'humano', 'máquina']"
      ]
     },
     "execution_count": 12,
     "metadata": {},
     "output_type": "execute_result"
    }
   ],
   "source": [
    "nltk.word_tokenize(preprocessed_sentences[0])"
   ]
  },
  {
   "cell_type": "code",
   "execution_count": 15,
   "metadata": {},
   "outputs": [
    {
     "data": {
      "text/plain": [
       "np.float64(0.9999999999999998)"
      ]
     },
     "execution_count": 15,
     "metadata": {},
     "output_type": "execute_result"
    }
   ],
   "source": [
    "calc_similarity(preprocessed_sentences[0], preprocessed_sentences[0])"
   ]
  },
  {
   "cell_type": "markdown",
   "metadata": {
    "id": "vrBir9vnijWB"
   },
   "source": [
    "## Função para gerar a matriz de similaridade"
   ]
  },
  {
   "cell_type": "code",
   "execution_count": 21,
   "metadata": {},
   "outputs": [],
   "source": [
    "def calc_similarity_matrix(sentences):\n",
    "    \n",
    "    num_sentences = len(sentences)\n",
    "    \n",
    "    similarity_matrix = np.zeros((num_sentences, num_sentences))\n",
    "\n",
    "    for i, sentence_one in enumerate(sentences):\n",
    "        \n",
    "        for j in range(i + 1, num_sentences):\n",
    "            \n",
    "            similarity = calc_similarity(sentence1, sentences[j])\n",
    "            \n",
    "            similarity_matrix[i, j] = similarity\n",
    "            similarity_matrix[j, i] = similarity\n",
    "\n",
    "    return similarity_matrix"
   ]
  },
  {
   "cell_type": "code",
   "execution_count": 20,
   "metadata": {},
   "outputs": [
    {
     "data": {
      "text/plain": [
       "array([[0.        , 0.47434165, 0.47434165, 0.35355339, 0.        ,\n",
       "        0.20412415, 0.        , 0.47434165],\n",
       "       [0.47434165, 0.        , 0.2       , 0.2236068 , 0.        ,\n",
       "        0.        , 0.        , 0.4       ],\n",
       "       [0.47434165, 0.2       , 0.        , 0.2236068 , 0.        ,\n",
       "        0.25819889, 0.        , 0.2       ],\n",
       "       [0.35355339, 0.2236068 , 0.2236068 , 0.        , 0.        ,\n",
       "        0.        , 0.        , 0.2236068 ],\n",
       "       [0.        , 0.        , 0.        , 0.        , 0.        ,\n",
       "        0.        , 0.        , 0.        ],\n",
       "       [0.20412415, 0.        , 0.25819889, 0.        , 0.        ,\n",
       "        0.        , 0.        , 0.25819889],\n",
       "       [0.        , 0.        , 0.        , 0.        , 0.        ,\n",
       "        0.        , 0.        , 0.        ],\n",
       "       [0.47434165, 0.4       , 0.2       , 0.2236068 , 0.        ,\n",
       "        0.25819889, 0.        , 0.        ]])"
      ]
     },
     "execution_count": 20,
     "metadata": {},
     "output_type": "execute_result"
    }
   ],
   "source": [
    "calcula_matriz_similaridade(preprocessed_sentences)"
   ]
  },
  {
   "cell_type": "markdown",
   "metadata": {
    "id": "whPYH6nUiEHQ"
   },
   "source": [
    "## Função para sumarizar\n",
    "\n",
    "- Algoritmo Page Rank: https://www.youtube.com/watch?v=YfDNI1jp5sM e https://www.youtube.com/watch?v=YplmCue8XJU"
   ]
  },
  {
   "cell_type": "code",
   "execution_count": 49,
   "metadata": {},
   "outputs": [
    {
     "data": {
      "text/plain": [
       "['A inteligência artificial é a inteligência similar à humana máquinas.',\n",
       " 'Definem como o estudo de agente artificial com inteligência.',\n",
       " 'Ciência e engenharia de produzir máquinas com inteligência.',\n",
       " 'Resolver problemas e possuir inteligência.',\n",
       " 'Relacionada ao comportamento inteligente.',\n",
       " 'Construção de máquinas para raciocinar.',\n",
       " 'Aprender com os erros e acertos.',\n",
       " 'Inteligência artificial é raciocinar nas situações do cotidiano.']"
      ]
     },
     "execution_count": 49,
     "metadata": {},
     "output_type": "execute_result"
    }
   ],
   "source": [
    "nltk.sent_tokenize(\"\"\"A inteligência artificial é a inteligência similar à humana máquinas.\n",
    "                    Definem como o estudo de agente artificial com inteligência.\n",
    "                    Ciência e engenharia de produzir máquinas com inteligência.\n",
    "                    Resolver problemas e possuir inteligência.\n",
    "                    Relacionada ao comportamento inteligente.\n",
    "                    Construção de máquinas para raciocinar.\n",
    "                    Aprender com os erros e acertos.\n",
    "                    Inteligência artificial é raciocinar nas situações do cotidiano.\"\"\")"
   ]
  },
  {
   "cell_type": "code",
   "execution_count": 15,
   "metadata": {},
   "outputs": [],
   "source": [
    "def sumarize(text, n_sentences):\n",
    "\n",
    "    sentences = [sentence for sentence in nltk.sent_tokenize(text)]\n",
    "\n",
    "    preprocessed_sentences = [preprocess_sentence(s) for s in sentences]\n",
    "\n",
    "    matrix_similarity = calc_similarity_matrix(preprocessed_sentences)\n",
    "\n",
    "    similarity_graph = nx.from_numpy_array(matrix_similarity)\n",
    "\n",
    "    scores = nx.pagerank(similarity_graph)\n",
    "\n",
    "    sorted_scores = sorted(((scores[i], score) for i, score in enumerate(sentences)), reverse=True)\n",
    "\n",
    "    list_best_sentences = [sorted_scores[i][1] for i in range(n_sentences)]\n",
    "\n",
    "    return sentences, list_best_sentences, sorted_scores"
   ]
  },
  {
   "cell_type": "code",
   "execution_count": 16,
   "metadata": {},
   "outputs": [
    {
     "data": {
      "text/plain": [
       "(['A inteligência artificial é a inteligência similar à humana máquinas.',\n",
       "  'Definem como o estudo de agente artificial com inteligência.',\n",
       "  'Ciência e engenharia de produzir máquinas com inteligência.',\n",
       "  'Resolver problemas e possuir inteligência.',\n",
       "  'Relacionada ao comportamento inteligente.',\n",
       "  'Construção de máquinas para raciocinar.',\n",
       "  'Aprender com os erros e acertos.',\n",
       "  'Inteligência artificial é raciocinar nas situações do cotidiano.'],\n",
       " ['A inteligência artificial é a inteligência similar à humana máquinas.',\n",
       "  'Inteligência artificial é raciocinar nas situações do cotidiano.',\n",
       "  'Ciência e engenharia de produzir máquinas com inteligência.'],\n",
       " [(0.22820924040178003,\n",
       "   'A inteligência artificial é a inteligência similar à humana máquinas.'),\n",
       "  (0.1839190802151221,\n",
       "   'Inteligência artificial é raciocinar nas situações do cotidiano.'),\n",
       "  (0.1633191450783496,\n",
       "   'Ciência e engenharia de produzir máquinas com inteligência.'),\n",
       "  (0.1543717033327776,\n",
       "   'Definem como o estudo de agente artificial com inteligência.'),\n",
       "  (0.12639273963873288, 'Resolver problemas e possuir inteligência.'),\n",
       "  (0.09616903563964783, 'Construção de máquinas para raciocinar.'),\n",
       "  (0.023809527846794958, 'Relacionada ao comportamento inteligente.'),\n",
       "  (0.023809527846794958, 'Aprender com os erros e acertos.')])"
      ]
     },
     "execution_count": 16,
     "metadata": {},
     "output_type": "execute_result"
    }
   ],
   "source": [
    "sumarize(\"\"\"A inteligência artificial é a inteligência similar à humana máquinas.\n",
    "                    Definem como o estudo de agente artificial com inteligência.\n",
    "                    Ciência e engenharia de produzir máquinas com inteligência.\n",
    "                    Resolver problemas e possuir inteligência.\n",
    "                    Relacionada ao comportamento inteligente.\n",
    "                    Construção de máquinas para raciocinar.\n",
    "                    Aprender com os erros e acertos.\n",
    "                    Inteligência artificial é raciocinar nas situações do cotidiano.\"\"\", 3)"
   ]
  },
  {
   "cell_type": "markdown",
   "metadata": {},
   "source": [
    "## Criação da Classe"
   ]
  },
  {
   "cell_type": "code",
   "execution_count": 59,
   "metadata": {},
   "outputs": [],
   "source": [
    "class CosineDistanceSummarizer():\n",
    "\n",
    "    def __init__(self, text, n_sentences, spacy_model=\"pt_core_news_sm\"):\n",
    "\n",
    "        self.text = text\n",
    "        \n",
    "        self.n_sentences = n_sentences\n",
    "\n",
    "        self.spacy_model = spacy_model\n",
    "\n",
    "    def _tokenize(self):\n",
    "\n",
    "        return nltk.sent_tokenize(self.text)\n",
    "\n",
    "    def _preprocess_sentences(self, sentences):\n",
    "\n",
    "        nlp = spacy.load(self.spacy_model)\n",
    "        \n",
    "        return [\n",
    "            \" \".join(\n",
    "                token.lemma_ \n",
    "                for token in nlp(sentence.lower())\n",
    "                if not token.is_stop and not token.is_punct\n",
    "            )\n",
    "            for sentence in sentences\n",
    "        ]\n",
    "\n",
    "    def _calc_similarity_matrix(self, sentences):\n",
    "    \n",
    "        num_sentences = len(sentences)\n",
    "    \n",
    "        similarity_matrix = np.zeros((num_sentences, num_sentences))\n",
    "\n",
    "        for i, sentence_one in enumerate(sentences):\n",
    "        \n",
    "            for j in range(i + 1, num_sentences):\n",
    "            \n",
    "                similarity = calc_similarity(sentence_one, sentences[j])\n",
    "            \n",
    "                similarity_matrix[i, j] = similarity\n",
    "                similarity_matrix[j, i] = similarity\n",
    "\n",
    "        return similarity_matrix\n",
    "\n",
    "    def _calc_pagerank(self, similarity_matrix):\n",
    "\n",
    "        similarity_graph = nx.from_numpy_array(similarity_matrix)\n",
    "        \n",
    "        scores = nx.pagerank(similarity_graph)\n",
    "\n",
    "        return scores\n",
    "\n",
    "    def summarize(self):\n",
    "\n",
    "        self.list_sentences = self._tokenize()\n",
    "\n",
    "        list_preprocessed_sentences = self._preprocess_sentences(self.list_sentences)\n",
    "\n",
    "        similarity_matrix = self._calc_similarity_matrix(list_preprocessed_sentences)\n",
    "\n",
    "        self.scores = self._calc_pagerank(similarity_matrix)\n",
    "        \n",
    "        self.sorted_scores = [(self.scores[i], sentence) for i, sentence in enumerate(self.list_sentences)]\n",
    "    \n",
    "        list_best_sentences = [sentence for _, sentence in heapq.nlargest(self.n_sentences, self.sorted_scores)]\n",
    "        \n",
    "        return list_best_sentences"
   ]
  },
  {
   "cell_type": "code",
   "execution_count": 64,
   "metadata": {},
   "outputs": [],
   "source": [
    "s = CosineDistanceSummarizer(\"\"\"A inteligência artificial é a inteligência similar à humana máquinas.\n",
    "                    Definem como o estudo de agente artificial com inteligência.\n",
    "                    Ciência e engenharia de produzir máquinas com inteligência.\n",
    "                    Resolver problemas e possuir inteligência.\n",
    "                    Relacionada ao comportamento inteligente.\n",
    "                    Construção de máquinas para raciocinar.\n",
    "                    Aprender com os erros e acertos.\n",
    "                    Inteligência artificial é raciocinar nas situações do cotidiano.\"\"\", 3)"
   ]
  },
  {
   "cell_type": "code",
   "execution_count": 65,
   "metadata": {},
   "outputs": [
    {
     "data": {
      "text/plain": [
       "['A inteligência artificial é a inteligência similar à humana máquinas.',\n",
       " 'Inteligência artificial é raciocinar nas situações do cotidiano.',\n",
       " 'Ciência e engenharia de produzir máquinas com inteligência.']"
      ]
     },
     "execution_count": 65,
     "metadata": {},
     "output_type": "execute_result"
    }
   ],
   "source": [
    "s.summarize()"
   ]
  },
  {
   "cell_type": "code",
   "execution_count": 66,
   "metadata": {},
   "outputs": [
    {
     "data": {
      "text/plain": [
       "['A inteligência artificial é a inteligência similar à humana máquinas.',\n",
       " 'Definem como o estudo de agente artificial com inteligência.',\n",
       " 'Ciência e engenharia de produzir máquinas com inteligência.',\n",
       " 'Resolver problemas e possuir inteligência.',\n",
       " 'Relacionada ao comportamento inteligente.',\n",
       " 'Construção de máquinas para raciocinar.',\n",
       " 'Aprender com os erros e acertos.',\n",
       " 'Inteligência artificial é raciocinar nas situações do cotidiano.']"
      ]
     },
     "execution_count": 66,
     "metadata": {},
     "output_type": "execute_result"
    }
   ],
   "source": [
    "s.list_sentences"
   ]
  },
  {
   "cell_type": "code",
   "execution_count": 67,
   "metadata": {},
   "outputs": [
    {
     "data": {
      "text/plain": [
       "{0: 0.22820924040178003,\n",
       " 1: 0.1543717033327776,\n",
       " 2: 0.1633191450783496,\n",
       " 3: 0.12639273963873288,\n",
       " 4: 0.023809527846794958,\n",
       " 5: 0.09616903563964783,\n",
       " 6: 0.023809527846794958,\n",
       " 7: 0.1839190802151221}"
      ]
     },
     "execution_count": 67,
     "metadata": {},
     "output_type": "execute_result"
    }
   ],
   "source": [
    "s.scores"
   ]
  },
  {
   "cell_type": "code",
   "execution_count": 68,
   "metadata": {},
   "outputs": [
    {
     "data": {
      "text/plain": [
       "[(0.22820924040178003,\n",
       "  'A inteligência artificial é a inteligência similar à humana máquinas.'),\n",
       " (0.1543717033327776,\n",
       "  'Definem como o estudo de agente artificial com inteligência.'),\n",
       " (0.1633191450783496,\n",
       "  'Ciência e engenharia de produzir máquinas com inteligência.'),\n",
       " (0.12639273963873288, 'Resolver problemas e possuir inteligência.'),\n",
       " (0.023809527846794958, 'Relacionada ao comportamento inteligente.'),\n",
       " (0.09616903563964783, 'Construção de máquinas para raciocinar.'),\n",
       " (0.023809527846794958, 'Aprender com os erros e acertos.'),\n",
       " (0.1839190802151221,\n",
       "  'Inteligência artificial é raciocinar nas situações do cotidiano.')]"
      ]
     },
     "execution_count": 68,
     "metadata": {},
     "output_type": "execute_result"
    }
   ],
   "source": [
    "s.sorted_scores"
   ]
  },
  {
   "cell_type": "markdown",
   "metadata": {
    "id": "5ckhtV0Nzf4c"
   },
   "source": [
    "## Visualização do resumo"
   ]
  },
  {
   "cell_type": "code",
   "execution_count": 69,
   "metadata": {
    "id": "iJqyBA0DhuwR"
   },
   "outputs": [],
   "source": [
    "def visualiza_resumo(titulo, lista_sentencas, melhores_sentencas):\n",
    "  \n",
    "    texto = ''\n",
    "\n",
    "    display(HTML(f'<h1>Resumo do texto - {titulo}</h1>'))\n",
    "  \n",
    "    for i in lista_sentencas:\n",
    "        \n",
    "        if i in melhores_sentencas:\n",
    "            texto += str(i).replace(i, f\"<mark>{i}</mark>\")\n",
    "    \n",
    "        else:\n",
    "            texto += i\n",
    "    \n",
    "    display(HTML(f\"\"\" {texto} \"\"\"))"
   ]
  },
  {
   "cell_type": "code",
   "execution_count": 70,
   "metadata": {},
   "outputs": [],
   "source": [
    "texto_original = \"\"\"A inteligência artificial é a inteligência similar à humana máquinas.\n",
    "                    Definem como o estudo de agente artificial com inteligência.\n",
    "                    Ciência e engenharia de produzir máquinas com inteligência.\n",
    "                    Resolver problemas e possuir inteligência.\n",
    "                    Relacionada ao comportamento inteligente.\n",
    "                    Construção de máquinas para raciocinar.\n",
    "                    Aprender com os erros e acertos.\n",
    "                    Inteligência artificial é raciocinar nas situações do cotidiano.\"\"\"\n",
    "\n",
    "resumo_texto = CosineDistanceSummarizer(texto_original, 3).summarize()"
   ]
  },
  {
   "cell_type": "code",
   "execution_count": 71,
   "metadata": {
    "colab": {
     "base_uri": "https://localhost:8080/"
    },
    "id": "AwPgTskpf8L0",
    "outputId": "5aa5ff4f-8a05-4d56-c9e6-be3d32306dee"
   },
   "outputs": [
    {
     "data": {
      "text/html": [
       "<h1>Resumo do texto - Teste</h1>"
      ],
      "text/plain": [
       "<IPython.core.display.HTML object>"
      ]
     },
     "metadata": {},
     "output_type": "display_data"
    },
    {
     "data": {
      "text/html": [
       " A inteligência artificial é a inteligência similar à humana máquinas.\n",
       "                    Definem como o estudo de agente artificial com inteligência.\n",
       "                    Ciência e engenharia de produzir máquinas com inteligência.\n",
       "                    Resolver problemas e possuir inteligência.\n",
       "                    Relacionada ao comportamento inteligente.\n",
       "                    Construção de máquinas para raciocinar.\n",
       "                    Aprender com os erros e acertos.\n",
       "                    Inteligência artificial é raciocinar nas situações do cotidiano. "
      ],
      "text/plain": [
       "<IPython.core.display.HTML object>"
      ]
     },
     "metadata": {},
     "output_type": "display_data"
    }
   ],
   "source": [
    "visualiza_resumo('Teste', texto_original, resumo_texto)"
   ]
  },
  {
   "cell_type": "markdown",
   "metadata": {
    "id": "U6z-C9JozqZu"
   },
   "source": [
    "## Extração de texto da internet"
   ]
  },
  {
   "cell_type": "code",
   "execution_count": 72,
   "metadata": {
    "id": "g9tl7IhIzwl_"
   },
   "outputs": [],
   "source": [
    "g = Goose()\n",
    "url = 'https://iaexpert.academy/2020/11/09/ia-preve-resultado-das-eleicoes-americanas/'\n",
    "artigo = g.extract(url)"
   ]
  },
  {
   "cell_type": "code",
   "execution_count": 73,
   "metadata": {
    "colab": {
     "base_uri": "https://localhost:8080/",
     "height": 122
    },
    "id": "icNSs-pPzzHH",
    "outputId": "e8115978-4087-40bc-e599-b6e6c14fab64"
   },
   "outputs": [
    {
     "data": {
      "text/plain": [
       "'Nas eleições presidenciais americanas de 2016, a maioria das predições apontavam para a vitória de Hillary Clinton. Entretanto, a história nos mostrou o resultado oposto, e Donald Trump foi o presidente nos últimos 4 anos. Desta vez, os estatísticos reexaminaram seus modelos, para aumentar o grau de confiabilidade nos seus resultados. Nesta tentativa de otimização das predições, a inteligência artificial certamente não ficou de fora.\\n\\nO modelo desenvolvido pelo Dr. Hernan Makse, físico estatístico da Universidade da Cidade de Nova York, baseou suas predições em uma rede neural treinada para processar os sentimentos expressos nas redes sociais. O algoritmo fez a análise de cerca de 1 bilhão de tweets para chegar a uma estimativa dos resultados do pleito. No dia da eleição, 3 de novembro, o modelo estava indicando a vitória de Joe Biden.\\n\\nO Dr. Makse disse que seu trabalho começou já na eleição de 2016, e foi testado novamente nas eleições na Argentina ano passado. Desta vez, o modelo está treinando com cerca de 5 vezes mais dados que nas eleições americanas anteriores. O trabalho não depende apenas da coleta dos dados, mas também de um tratamento estatístico adequado para levar em consideração duas variáveis externas: o viés de amostragem e a taxa de comparecimento. O primeiro fator se refere ao fato de que as redes sociais não necessariamente representam a população americana. A participação em redes sociais costuma ser maior nas cidades grandes, que de fato têm preferência por um dos candidatos, e o modelo deve ser corrigido para levar em consideração também a opinião das pessoas que não são ativas neste ambiente virtual. O segundo fator se deve à não-obrigatoriedade de votação nos Estados Unidos, ou seja, por mais que uma pessoa tenha sua preferência, pode ser que ela não compareça aos locais de votação para efetivá-la. Segundo o Dr. Makse, integrar estas duas variáveis em seu modelo é a parte mais importante do trabalho. Ele acredita ser esta uma das razões para que as estimativas da última eleição, baseadas em métodos tradicionais de coleta de informação, terem falhado. Sua equipe acompanhou as tendências apresentadas nas últimas eleições na Europa, e os modelos estão se revelando cada vez melhores.\\n\\nQuando seu modelo foi usado para predizer os resultados da eleição corrente usando dados brutos, Joe Biden apareceu como vencedor com larga vantagem. Após aplicar os mecanismos de correção para os dois vieses identificados, a vantagem diminuiu, mas Biden ainda é indicado como favorito.\\n\\nParece que, desta vez, os algoritmos estão de fato contribuindo para que as predições sejam mais precisas.'"
      ]
     },
     "execution_count": 73,
     "metadata": {},
     "output_type": "execute_result"
    }
   ],
   "source": [
    "artigo.cleaned_text"
   ]
  },
  {
   "cell_type": "code",
   "execution_count": 74,
   "metadata": {
    "id": "XFeat1tIz4Ig"
   },
   "outputs": [],
   "source": [
    "melhores_sentencas = CosineDistanceSummarizer(artigo.cleaned_text, 5).summarize()"
   ]
  },
  {
   "cell_type": "code",
   "execution_count": 75,
   "metadata": {
    "colab": {
     "base_uri": "https://localhost:8080/",
     "height": 300
    },
    "id": "m3UMdYnc0Gwy",
    "outputId": "f332846f-2851-4771-bfeb-970d87f11d23"
   },
   "outputs": [
    {
     "data": {
      "text/html": [
       "<h1>Resumo do texto - Teste</h1>"
      ],
      "text/plain": [
       "<IPython.core.display.HTML object>"
      ]
     },
     "metadata": {},
     "output_type": "display_data"
    },
    {
     "data": {
      "text/html": [
       " Nas eleições presidenciais americanas de 2016, a maioria das predições apontavam para a vitória de Hillary Clinton. Entretanto, a história nos mostrou o resultado oposto, e Donald Trump foi o presidente nos últimos 4 anos. Desta vez, os estatísticos reexaminaram seus modelos, para aumentar o grau de confiabilidade nos seus resultados. Nesta tentativa de otimização das predições, a inteligência artificial certamente não ficou de fora.\n",
       "\n",
       "O modelo desenvolvido pelo Dr. Hernan Makse, físico estatístico da Universidade da Cidade de Nova York, baseou suas predições em uma rede neural treinada para processar os sentimentos expressos nas redes sociais. O algoritmo fez a análise de cerca de 1 bilhão de tweets para chegar a uma estimativa dos resultados do pleito. No dia da eleição, 3 de novembro, o modelo estava indicando a vitória de Joe Biden.\n",
       "\n",
       "O Dr. Makse disse que seu trabalho começou já na eleição de 2016, e foi testado novamente nas eleições na Argentina ano passado. Desta vez, o modelo está treinando com cerca de 5 vezes mais dados que nas eleições americanas anteriores. O trabalho não depende apenas da coleta dos dados, mas também de um tratamento estatístico adequado para levar em consideração duas variáveis externas: o viés de amostragem e a taxa de comparecimento. O primeiro fator se refere ao fato de que as redes sociais não necessariamente representam a população americana. A participação em redes sociais costuma ser maior nas cidades grandes, que de fato têm preferência por um dos candidatos, e o modelo deve ser corrigido para levar em consideração também a opinião das pessoas que não são ativas neste ambiente virtual. O segundo fator se deve à não-obrigatoriedade de votação nos Estados Unidos, ou seja, por mais que uma pessoa tenha sua preferência, pode ser que ela não compareça aos locais de votação para efetivá-la. Segundo o Dr. Makse, integrar estas duas variáveis em seu modelo é a parte mais importante do trabalho. Ele acredita ser esta uma das razões para que as estimativas da última eleição, baseadas em métodos tradicionais de coleta de informação, terem falhado. Sua equipe acompanhou as tendências apresentadas nas últimas eleições na Europa, e os modelos estão se revelando cada vez melhores.\n",
       "\n",
       "Quando seu modelo foi usado para predizer os resultados da eleição corrente usando dados brutos, Joe Biden apareceu como vencedor com larga vantagem. Após aplicar os mecanismos de correção para os dois vieses identificados, a vantagem diminuiu, mas Biden ainda é indicado como favorito.\n",
       "\n",
       "Parece que, desta vez, os algoritmos estão de fato contribuindo para que as predições sejam mais precisas. "
      ],
      "text/plain": [
       "<IPython.core.display.HTML object>"
      ]
     },
     "metadata": {},
     "output_type": "display_data"
    }
   ],
   "source": [
    "visualiza_resumo('Teste', artigo.cleaned_text, melhores_sentencas)"
   ]
  },
  {
   "cell_type": "code",
   "execution_count": null,
   "metadata": {},
   "outputs": [],
   "source": []
  }
 ],
 "metadata": {
  "colab": {
   "provenance": []
  },
  "kernelspec": {
   "display_name": "Python 3 (ipykernel)",
   "language": "python",
   "name": "python3"
  },
  "language_info": {
   "codemirror_mode": {
    "name": "ipython",
    "version": 3
   },
   "file_extension": ".py",
   "mimetype": "text/x-python",
   "name": "python",
   "nbconvert_exporter": "python",
   "pygments_lexer": "ipython3",
   "version": "3.12.8"
  }
 },
 "nbformat": 4,
 "nbformat_minor": 4
}
