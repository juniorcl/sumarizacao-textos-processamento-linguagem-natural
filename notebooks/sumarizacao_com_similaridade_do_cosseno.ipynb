{
 "cells": [
  {
   "cell_type": "markdown",
   "metadata": {
    "id": "sPGfCKXebWbH"
   },
   "source": [
    "# Sumarização com similaridade do cosseno"
   ]
  },
  {
   "cell_type": "markdown",
   "metadata": {
    "id": "q8hjBnVEbbEq"
   },
   "source": [
    "## Preparação do texto de exemplo"
   ]
  },
  {
   "cell_type": "code",
   "execution_count": 1,
   "metadata": {
    "id": "m1LwWn7XbPRa"
   },
   "outputs": [],
   "source": [
    "import re\n",
    "import nltk\n",
    "import spacy\n",
    "import string\n",
    "\n",
    "import numpy    as np\n",
    "import networkx as nx\n",
    "\n",
    "from goose3               import Goose\n",
    "from nltk.cluster.util    import cosine_distance\n",
    "from IPython.core.display import HTML"
   ]
  },
  {
   "cell_type": "code",
   "execution_count": 2,
   "metadata": {},
   "outputs": [],
   "source": [
    "# nltk.download()"
   ]
  },
  {
   "cell_type": "code",
   "execution_count": 5,
   "metadata": {
    "colab": {
     "base_uri": "https://localhost:8080/"
    },
    "id": "0U6buOn1eFhD",
    "outputId": "43a2e747-bd13-4862-d830-87cce48e7152"
   },
   "outputs": [
    {
     "name": "stderr",
     "output_type": "stream",
     "text": [
      "[nltk_data] Downloading package punkt to /home/junior/nltk_data...\n",
      "[nltk_data]   Unzipping tokenizers/punkt.zip.\n",
      "[nltk_data] Downloading package punkt_tab to /home/junior/nltk_data...\n",
      "[nltk_data]   Unzipping tokenizers/punkt_tab.zip.\n",
      "[nltk_data] Downloading package stopwords to /home/junior/nltk_data...\n",
      "[nltk_data]   Unzipping corpora/stopwords.zip.\n"
     ]
    },
    {
     "data": {
      "text/plain": [
       "True"
      ]
     },
     "execution_count": 5,
     "metadata": {},
     "output_type": "execute_result"
    }
   ],
   "source": [
    "nltk.download('punkt')\n",
    "nltk.download('punkt_tab')\n",
    "nltk.download('stopwords')"
   ]
  },
  {
   "cell_type": "code",
   "execution_count": 6,
   "metadata": {
    "colab": {
     "base_uri": "https://localhost:8080/"
    },
    "id": "1Syy9rgPemgJ",
    "outputId": "103c70f8-49d4-4aa5-bf78-190ab329976f"
   },
   "outputs": [
    {
     "name": "stdout",
     "output_type": "stream",
     "text": [
      "['a', 'à', 'ao', 'aos', 'aquela', 'aquelas', 'aquele', 'aqueles', 'aquilo', 'as', 'às', 'até', 'com', 'como', 'da', 'das', 'de', 'dela', 'delas', 'dele', 'deles', 'depois', 'do', 'dos', 'e', 'é', 'ela', 'elas', 'ele', 'eles', 'em', 'entre', 'era', 'eram', 'éramos', 'essa', 'essas', 'esse', 'esses', 'esta', 'está', 'estamos', 'estão', 'estar', 'estas', 'estava', 'estavam', 'estávamos', 'este', 'esteja', 'estejam', 'estejamos', 'estes', 'esteve', 'estive', 'estivemos', 'estiver', 'estivera', 'estiveram', 'estivéramos', 'estiverem', 'estivermos', 'estivesse', 'estivessem', 'estivéssemos', 'estou', 'eu', 'foi', 'fomos', 'for', 'fora', 'foram', 'fôramos', 'forem', 'formos', 'fosse', 'fossem', 'fôssemos', 'fui', 'há', 'haja', 'hajam', 'hajamos', 'hão', 'havemos', 'haver', 'hei', 'houve', 'houvemos', 'houver', 'houvera', 'houverá', 'houveram', 'houvéramos', 'houverão', 'houverei', 'houverem', 'houveremos', 'houveria', 'houveriam', 'houveríamos', 'houvermos', 'houvesse', 'houvessem', 'houvéssemos', 'isso', 'isto', 'já', 'lhe', 'lhes', 'mais', 'mas', 'me', 'mesmo', 'meu', 'meus', 'minha', 'minhas', 'muito', 'na', 'não', 'nas', 'nem', 'no', 'nos', 'nós', 'nossa', 'nossas', 'nosso', 'nossos', 'num', 'numa', 'o', 'os', 'ou', 'para', 'pela', 'pelas', 'pelo', 'pelos', 'por', 'qual', 'quando', 'que', 'quem', 'são', 'se', 'seja', 'sejam', 'sejamos', 'sem', 'ser', 'será', 'serão', 'serei', 'seremos', 'seria', 'seriam', 'seríamos', 'seu', 'seus', 'só', 'somos', 'sou', 'sua', 'suas', 'também', 'te', 'tem', 'tém', 'temos', 'tenha', 'tenham', 'tenhamos', 'tenho', 'terá', 'terão', 'terei', 'teremos', 'teria', 'teriam', 'teríamos', 'teu', 'teus', 'teve', 'tinha', 'tinham', 'tínhamos', 'tive', 'tivemos', 'tiver', 'tivera', 'tiveram', 'tivéramos', 'tiverem', 'tivermos', 'tivesse', 'tivessem', 'tivéssemos', 'tu', 'tua', 'tuas', 'um', 'uma', 'você', 'vocês', 'vos']\n"
     ]
    }
   ],
   "source": [
    "stopwords = nltk.corpus.stopwords.words('portuguese')\n",
    "print(stopwords)"
   ]
  },
  {
   "cell_type": "code",
   "execution_count": 7,
   "metadata": {
    "id": "TNFbY6H1ervC"
   },
   "outputs": [],
   "source": [
    "def preprocessamento(texto):\n",
    "    texto_formatado = texto.lower()\n",
    "    tokens = []\n",
    "    \n",
    "    for token in nltk.word_tokenize(texto_formatado):\n",
    "        tokens.append(token)\n",
    "\n",
    "    tokens = [palavra for palavra in tokens if palavra not in stopwords and palavra not in string.punctuation]\n",
    "    texto_formatado = ' '.join([str(elemento) for elemento in tokens if not elemento.isdigit()])\n",
    "\n",
    "    return texto_formatado"
   ]
  },
  {
   "cell_type": "code",
   "execution_count": 8,
   "metadata": {
    "colab": {
     "base_uri": "https://localhost:8080/",
     "height": 70
    },
    "id": "KhkaxziLctKz",
    "outputId": "0a2edddd-ddcc-4999-acdc-547c6e44b49c"
   },
   "outputs": [
    {
     "data": {
      "text/plain": [
       "'A inteligência artificial é a inteligência similar à humana máquinas. Definem como o estudo de agente artificial com inteligência. Ciência e engenharia de produzir máquinas com inteligência. Resolver problemas e possuir inteligência. Relacionada ao comportamento inteligente. Construção de máquinas para raciocinar. Aprender com os erros e acertos. Inteligência artificial é raciocinar nas situações do cotidiano.'"
      ]
     },
     "execution_count": 8,
     "metadata": {},
     "output_type": "execute_result"
    }
   ],
   "source": [
    "texto_original = \"\"\"A inteligência artificial é a inteligência similar à humana máquinas.\n",
    "                    Definem como o estudo de agente artificial com inteligência.\n",
    "                    Ciência e engenharia de produzir máquinas com inteligência.\n",
    "                    Resolver problemas e possuir inteligência.\n",
    "                    Relacionada ao comportamento inteligente.\n",
    "                    Construção de máquinas para raciocinar.\n",
    "                    Aprender com os erros e acertos.\n",
    "                    Inteligência artificial é raciocinar nas situações do cotidiano.\"\"\"\n",
    "\n",
    "texto_original = re.sub(r'\\s+', ' ', texto_original)\n",
    "texto_original"
   ]
  },
  {
   "cell_type": "markdown",
   "metadata": {
    "id": "UfuFBQ06iahM"
   },
   "source": [
    "## Função para calcular a similaridade entre sentenças\n",
    "\n",
    "- Link: https://en.wikipedia.org/wiki/Cosine_similarity\n",
    "- Cálculos passo a passo: https://janav.wordpress.com/2013/10/27/tf-idf-and-cosine-similarity/"
   ]
  },
  {
   "cell_type": "code",
   "execution_count": 9,
   "metadata": {
    "id": "01WnGc7cUuAP"
   },
   "outputs": [],
   "source": [
    "sentencas_originais = [sentenca for sentenca in nltk.sent_tokenize(texto_original)]\n",
    "sentencas_formatadas = [preprocessamento(sentenca_original) for sentenca_original in sentencas_originais]"
   ]
  },
  {
   "cell_type": "code",
   "execution_count": 10,
   "metadata": {
    "colab": {
     "base_uri": "https://localhost:8080/"
    },
    "id": "Ywevay_CVDHg",
    "outputId": "bbe35f7e-b95d-4013-b0df-8cc6c3fa870e"
   },
   "outputs": [
    {
     "data": {
      "text/plain": [
       "['A inteligência artificial é a inteligência similar à humana máquinas.',\n",
       " 'Definem como o estudo de agente artificial com inteligência.',\n",
       " 'Ciência e engenharia de produzir máquinas com inteligência.',\n",
       " 'Resolver problemas e possuir inteligência.',\n",
       " 'Relacionada ao comportamento inteligente.',\n",
       " 'Construção de máquinas para raciocinar.',\n",
       " 'Aprender com os erros e acertos.',\n",
       " 'Inteligência artificial é raciocinar nas situações do cotidiano.']"
      ]
     },
     "execution_count": 10,
     "metadata": {},
     "output_type": "execute_result"
    }
   ],
   "source": [
    "sentencas_originais"
   ]
  },
  {
   "cell_type": "code",
   "execution_count": 11,
   "metadata": {
    "colab": {
     "base_uri": "https://localhost:8080/"
    },
    "id": "iGVJDvzGVFas",
    "outputId": "0fa163cf-11b7-4b6c-aee0-783c9ad15570"
   },
   "outputs": [
    {
     "data": {
      "text/plain": [
       "['inteligência artificial inteligência similar humana máquinas',\n",
       " 'definem estudo agente artificial inteligência',\n",
       " 'ciência engenharia produzir máquinas inteligência',\n",
       " 'resolver problemas possuir inteligência',\n",
       " 'relacionada comportamento inteligente',\n",
       " 'construção máquinas raciocinar',\n",
       " 'aprender erros acertos',\n",
       " 'inteligência artificial raciocinar situações cotidiano']"
      ]
     },
     "execution_count": 11,
     "metadata": {},
     "output_type": "execute_result"
    }
   ],
   "source": [
    "sentencas_formatadas"
   ]
  },
  {
   "cell_type": "code",
   "execution_count": 12,
   "metadata": {
    "id": "0zrNg4IZVOZX"
   },
   "outputs": [],
   "source": [
    "def calcula_similaridade_sentencas(sentenca1, sentenca2):\n",
    "    \n",
    "    palavras1 = [palavra for palavra in nltk.word_tokenize(sentenca1)]\n",
    "    palavras2 = [palavra for palavra in nltk.word_tokenize(sentenca2)]\n",
    "    #print(palavras1)\n",
    "    #print(palavras2)\n",
    "\n",
    "    todas_palavras = list(set(palavras1 + palavras2))\n",
    "    #print(todas_palavras)\n",
    "\n",
    "    vetor1 = [0] * len(todas_palavras)\n",
    "    vetor2 = [0] * len(todas_palavras)\n",
    "    #print(vetor1)\n",
    "    #print(vetor2)\n",
    "\n",
    "    for palavra in palavras1:\n",
    "        vetor1[todas_palavras.index(palavra)] += 1\n",
    "    \n",
    "    for palavra in palavras2:\n",
    "        vetor2[todas_palavras.index(palavra)] += 1\n",
    "\n",
    "    #print(vetor1)\n",
    "    #print(vetor2) K-nn\n",
    "    \n",
    "    return 1 - cosine_distance(vetor1, vetor2)"
   ]
  },
  {
   "cell_type": "code",
   "execution_count": 13,
   "metadata": {
    "colab": {
     "base_uri": "https://localhost:8080/"
    },
    "id": "EuTRTd4KVkSI",
    "outputId": "d83e3d43-30a8-4b0f-8169-7de9244acc29"
   },
   "outputs": [
    {
     "data": {
      "text/plain": [
       "np.float64(0.9999999999999998)"
      ]
     },
     "execution_count": 13,
     "metadata": {},
     "output_type": "execute_result"
    }
   ],
   "source": [
    "calcula_similaridade_sentencas(sentencas_formatadas[0], sentencas_formatadas[0])"
   ]
  },
  {
   "cell_type": "markdown",
   "metadata": {
    "id": "vrBir9vnijWB"
   },
   "source": [
    "## Função para gerar a matriz de similaridade"
   ]
  },
  {
   "cell_type": "code",
   "execution_count": 14,
   "metadata": {
    "id": "njeMm3ZRZ3Vo"
   },
   "outputs": [],
   "source": [
    "def calcula_matriz_similaridade(sentencas):\n",
    "  \n",
    "    matriz_similaridade = np.zeros((len(sentencas), len(sentencas)))\n",
    "    \n",
    "    #print(matriz_similaridade)\n",
    "  \n",
    "    for i in range(len(sentencas)):\n",
    "        for j in range(len(sentencas)):\n",
    "            if i == j:\n",
    "                continue\n",
    "    \n",
    "            matriz_similaridade[i][j] = calcula_similaridade_sentencas(sentencas[i], sentencas[j])\n",
    "\n",
    "    return matriz_similaridade"
   ]
  },
  {
   "cell_type": "code",
   "execution_count": 15,
   "metadata": {
    "colab": {
     "base_uri": "https://localhost:8080/"
    },
    "id": "FWM1fHxSaHrt",
    "outputId": "11288c08-681c-42cc-a9c1-393626b6d296"
   },
   "outputs": [
    {
     "data": {
      "text/plain": [
       "array([[0.        , 0.47434165, 0.47434165, 0.35355339, 0.        ,\n",
       "        0.20412415, 0.        , 0.47434165],\n",
       "       [0.47434165, 0.        , 0.2       , 0.2236068 , 0.        ,\n",
       "        0.        , 0.        , 0.4       ],\n",
       "       [0.47434165, 0.2       , 0.        , 0.2236068 , 0.        ,\n",
       "        0.25819889, 0.        , 0.2       ],\n",
       "       [0.35355339, 0.2236068 , 0.2236068 , 0.        , 0.        ,\n",
       "        0.        , 0.        , 0.2236068 ],\n",
       "       [0.        , 0.        , 0.        , 0.        , 0.        ,\n",
       "        0.        , 0.        , 0.        ],\n",
       "       [0.20412415, 0.        , 0.25819889, 0.        , 0.        ,\n",
       "        0.        , 0.        , 0.25819889],\n",
       "       [0.        , 0.        , 0.        , 0.        , 0.        ,\n",
       "        0.        , 0.        , 0.        ],\n",
       "       [0.47434165, 0.4       , 0.2       , 0.2236068 , 0.        ,\n",
       "        0.25819889, 0.        , 0.        ]])"
      ]
     },
     "execution_count": 15,
     "metadata": {},
     "output_type": "execute_result"
    }
   ],
   "source": [
    "calcula_matriz_similaridade(sentencas_formatadas)"
   ]
  },
  {
   "cell_type": "markdown",
   "metadata": {
    "id": "whPYH6nUiEHQ"
   },
   "source": [
    "## Função para sumarizar\n",
    "\n",
    "- Algoritmo Page Rank: https://www.youtube.com/watch?v=YfDNI1jp5sM e https://www.youtube.com/watch?v=YplmCue8XJU"
   ]
  },
  {
   "cell_type": "code",
   "execution_count": 16,
   "metadata": {
    "id": "GwRnuL7pbqwq"
   },
   "outputs": [],
   "source": [
    "def sumarizar(texto, quantidade_sentencas):\n",
    "    \n",
    "    sentencas_originais = [sentenca for sentenca in nltk.sent_tokenize(texto)]\n",
    "    \n",
    "    sentencas_formatadas = [preprocessamento(sentenca_original) for sentenca_original in sentencas_originais]\n",
    "    \n",
    "    matriz_similaridade = calcula_matriz_similaridade(sentencas_formatadas)\n",
    "    #print(matriz_similaridade)\n",
    "    \n",
    "    grafo_similaridade = nx.from_numpy_array(matriz_similaridade)\n",
    "    #print(grafo_similaridade.nodes)\n",
    "    #print(grafo_similaridade.edges)\n",
    "    \n",
    "    notas = nx.pagerank(grafo_similaridade)\n",
    "    #print(notas)\n",
    "    \n",
    "    notas_ordenadas = sorted(((notas[i], nota) for i, nota in enumerate(sentencas_originais)), reverse=True)\n",
    "    #print(notas_ordenadas)\n",
    "    \n",
    "    melhores_sentencas = []\n",
    "    \n",
    "    for i in range(quantidade_sentencas):\n",
    "        melhores_sentencas.append(notas_ordenadas[i][1])\n",
    "    \n",
    "    return sentencas_originais, melhores_sentencas, notas_ordenadas"
   ]
  },
  {
   "cell_type": "code",
   "execution_count": 17,
   "metadata": {
    "id": "kPeO-9aicU5-"
   },
   "outputs": [],
   "source": [
    "sentencas_originais, melhores_sentencas, notas_sentencas = sumarizar(texto_original, 3)"
   ]
  },
  {
   "cell_type": "code",
   "execution_count": 18,
   "metadata": {
    "colab": {
     "base_uri": "https://localhost:8080/"
    },
    "id": "ptcMtccmfLK8",
    "outputId": "53db0817-3821-4133-91ca-c0b8ae0b00d8"
   },
   "outputs": [
    {
     "data": {
      "text/plain": [
       "['A inteligência artificial é a inteligência similar à humana máquinas.',\n",
       " 'Definem como o estudo de agente artificial com inteligência.',\n",
       " 'Ciência e engenharia de produzir máquinas com inteligência.',\n",
       " 'Resolver problemas e possuir inteligência.',\n",
       " 'Relacionada ao comportamento inteligente.',\n",
       " 'Construção de máquinas para raciocinar.',\n",
       " 'Aprender com os erros e acertos.',\n",
       " 'Inteligência artificial é raciocinar nas situações do cotidiano.']"
      ]
     },
     "execution_count": 18,
     "metadata": {},
     "output_type": "execute_result"
    }
   ],
   "source": [
    "sentencas_originais"
   ]
  },
  {
   "cell_type": "code",
   "execution_count": 19,
   "metadata": {
    "colab": {
     "base_uri": "https://localhost:8080/"
    },
    "id": "blQYYIanfNNc",
    "outputId": "f0236423-52da-44ff-ee28-2e6e6a26db1a"
   },
   "outputs": [
    {
     "data": {
      "text/plain": [
       "['A inteligência artificial é a inteligência similar à humana máquinas.',\n",
       " 'Inteligência artificial é raciocinar nas situações do cotidiano.',\n",
       " 'Ciência e engenharia de produzir máquinas com inteligência.']"
      ]
     },
     "execution_count": 19,
     "metadata": {},
     "output_type": "execute_result"
    }
   ],
   "source": [
    "melhores_sentencas"
   ]
  },
  {
   "cell_type": "code",
   "execution_count": 20,
   "metadata": {
    "colab": {
     "base_uri": "https://localhost:8080/"
    },
    "id": "HrEoPcigfPQx",
    "outputId": "3086a517-078f-4b34-ddca-add37ba3798f"
   },
   "outputs": [
    {
     "data": {
      "text/plain": [
       "[(0.22820924040178003,\n",
       "  'A inteligência artificial é a inteligência similar à humana máquinas.'),\n",
       " (0.1839190802151221,\n",
       "  'Inteligência artificial é raciocinar nas situações do cotidiano.'),\n",
       " (0.1633191450783496,\n",
       "  'Ciência e engenharia de produzir máquinas com inteligência.'),\n",
       " (0.1543717033327776,\n",
       "  'Definem como o estudo de agente artificial com inteligência.'),\n",
       " (0.12639273963873288, 'Resolver problemas e possuir inteligência.'),\n",
       " (0.09616903563964783, 'Construção de máquinas para raciocinar.'),\n",
       " (0.023809527846794958, 'Relacionada ao comportamento inteligente.'),\n",
       " (0.023809527846794958, 'Aprender com os erros e acertos.')]"
      ]
     },
     "execution_count": 20,
     "metadata": {},
     "output_type": "execute_result"
    }
   ],
   "source": [
    "notas_sentencas"
   ]
  },
  {
   "cell_type": "markdown",
   "metadata": {
    "id": "5ckhtV0Nzf4c"
   },
   "source": [
    "## Visualização do resumo"
   ]
  },
  {
   "cell_type": "code",
   "execution_count": 21,
   "metadata": {
    "id": "iJqyBA0DhuwR"
   },
   "outputs": [],
   "source": [
    "def visualiza_resumo(titulo, lista_sentencas, melhores_sentencas):\n",
    "  \n",
    "    texto = ''\n",
    "\n",
    "    display(HTML(f'<h1>Resumo do texto - {titulo}</h1>'))\n",
    "  \n",
    "    for i in lista_sentencas:\n",
    "        \n",
    "        if i in melhores_sentencas:\n",
    "            texto += str(i).replace(i, f\"<mark>{i}</mark>\")\n",
    "    \n",
    "        else:\n",
    "            texto += i\n",
    "    \n",
    "    display(HTML(f\"\"\" {texto} \"\"\"))"
   ]
  },
  {
   "cell_type": "code",
   "execution_count": 22,
   "metadata": {
    "colab": {
     "base_uri": "https://localhost:8080/"
    },
    "id": "AwPgTskpf8L0",
    "outputId": "5aa5ff4f-8a05-4d56-c9e6-be3d32306dee"
   },
   "outputs": [
    {
     "data": {
      "text/html": [
       "<h1>Resumo do texto - Teste</h1>"
      ],
      "text/plain": [
       "<IPython.core.display.HTML object>"
      ]
     },
     "metadata": {},
     "output_type": "display_data"
    },
    {
     "data": {
      "text/html": [
       " <mark>A inteligência artificial é a inteligência similar à humana máquinas.</mark>Definem como o estudo de agente artificial com inteligência.<mark>Ciência e engenharia de produzir máquinas com inteligência.</mark>Resolver problemas e possuir inteligência.Relacionada ao comportamento inteligente.Construção de máquinas para raciocinar.Aprender com os erros e acertos.<mark>Inteligência artificial é raciocinar nas situações do cotidiano.</mark> "
      ],
      "text/plain": [
       "<IPython.core.display.HTML object>"
      ]
     },
     "metadata": {},
     "output_type": "display_data"
    }
   ],
   "source": [
    "visualiza_resumo('Teste', sentencas_originais, melhores_sentencas)"
   ]
  },
  {
   "cell_type": "markdown",
   "metadata": {
    "id": "U6z-C9JozqZu"
   },
   "source": [
    "## Extração de texto da internet"
   ]
  },
  {
   "cell_type": "code",
   "execution_count": 23,
   "metadata": {
    "id": "g9tl7IhIzwl_"
   },
   "outputs": [],
   "source": [
    "g = Goose()\n",
    "url = 'https://iaexpert.academy/2020/11/09/ia-preve-resultado-das-eleicoes-americanas/'\n",
    "artigo = g.extract(url)"
   ]
  },
  {
   "cell_type": "code",
   "execution_count": 24,
   "metadata": {
    "colab": {
     "base_uri": "https://localhost:8080/",
     "height": 122
    },
    "id": "icNSs-pPzzHH",
    "outputId": "e8115978-4087-40bc-e599-b6e6c14fab64"
   },
   "outputs": [
    {
     "data": {
      "text/plain": [
       "'Nas eleições presidenciais americanas de 2016, a maioria das predições apontavam para a vitória de Hillary Clinton. Entretanto, a história nos mostrou o resultado oposto, e Donald Trump foi o presidente nos últimos 4 anos. Desta vez, os estatísticos reexaminaram seus modelos, para aumentar o grau de confiabilidade nos seus resultados. Nesta tentativa de otimização das predições, a inteligência artificial certamente não ficou de fora.\\n\\nO modelo desenvolvido pelo Dr. Hernan Makse, físico estatístico da Universidade da Cidade de Nova York, baseou suas predições em uma rede neural treinada para processar os sentimentos expressos nas redes sociais. O algoritmo fez a análise de cerca de 1 bilhão de tweets para chegar a uma estimativa dos resultados do pleito. No dia da eleição, 3 de novembro, o modelo estava indicando a vitória de Joe Biden.\\n\\nO Dr. Makse disse que seu trabalho começou já na eleição de 2016, e foi testado novamente nas eleições na Argentina ano passado. Desta vez, o modelo está treinando com cerca de 5 vezes mais dados que nas eleições americanas anteriores. O trabalho não depende apenas da coleta dos dados, mas também de um tratamento estatístico adequado para levar em consideração duas variáveis externas: o viés de amostragem e a taxa de comparecimento. O primeiro fator se refere ao fato de que as redes sociais não necessariamente representam a população americana. A participação em redes sociais costuma ser maior nas cidades grandes, que de fato têm preferência por um dos candidatos, e o modelo deve ser corrigido para levar em consideração também a opinião das pessoas que não são ativas neste ambiente virtual. O segundo fator se deve à não-obrigatoriedade de votação nos Estados Unidos, ou seja, por mais que uma pessoa tenha sua preferência, pode ser que ela não compareça aos locais de votação para efetivá-la. Segundo o Dr. Makse, integrar estas duas variáveis em seu modelo é a parte mais importante do trabalho. Ele acredita ser esta uma das razões para que as estimativas da última eleição, baseadas em métodos tradicionais de coleta de informação, terem falhado. Sua equipe acompanhou as tendências apresentadas nas últimas eleições na Europa, e os modelos estão se revelando cada vez melhores.\\n\\nQuando seu modelo foi usado para predizer os resultados da eleição corrente usando dados brutos, Joe Biden apareceu como vencedor com larga vantagem. Após aplicar os mecanismos de correção para os dois vieses identificados, a vantagem diminuiu, mas Biden ainda é indicado como favorito.\\n\\nParece que, desta vez, os algoritmos estão de fato contribuindo para que as predições sejam mais precisas.'"
      ]
     },
     "execution_count": 24,
     "metadata": {},
     "output_type": "execute_result"
    }
   ],
   "source": [
    "artigo.cleaned_text"
   ]
  },
  {
   "cell_type": "code",
   "execution_count": 25,
   "metadata": {
    "id": "XFeat1tIz4Ig"
   },
   "outputs": [],
   "source": [
    "sentencas_originais, melhores_sentencas, notas_sentencas = sumarizar(artigo.cleaned_text, 5)"
   ]
  },
  {
   "cell_type": "code",
   "execution_count": 26,
   "metadata": {
    "colab": {
     "base_uri": "https://localhost:8080/"
    },
    "id": "2VqjSb0_z6_9",
    "outputId": "2beb3738-26d7-4c16-b02e-0a3afb14002f"
   },
   "outputs": [
    {
     "data": {
      "text/plain": [
       "['Nas eleições presidenciais americanas de 2016, a maioria das predições apontavam para a vitória de Hillary Clinton.',\n",
       " 'Entretanto, a história nos mostrou o resultado oposto, e Donald Trump foi o presidente nos últimos 4 anos.',\n",
       " 'Desta vez, os estatísticos reexaminaram seus modelos, para aumentar o grau de confiabilidade nos seus resultados.',\n",
       " 'Nesta tentativa de otimização das predições, a inteligência artificial certamente não ficou de fora.',\n",
       " 'O modelo desenvolvido pelo Dr. Hernan Makse, físico estatístico da Universidade da Cidade de Nova York, baseou suas predições em uma rede neural treinada para processar os sentimentos expressos nas redes sociais.',\n",
       " 'O algoritmo fez a análise de cerca de 1 bilhão de tweets para chegar a uma estimativa dos resultados do pleito.',\n",
       " 'No dia da eleição, 3 de novembro, o modelo estava indicando a vitória de Joe Biden.',\n",
       " 'O Dr. Makse disse que seu trabalho começou já na eleição de 2016, e foi testado novamente nas eleições na Argentina ano passado.',\n",
       " 'Desta vez, o modelo está treinando com cerca de 5 vezes mais dados que nas eleições americanas anteriores.',\n",
       " 'O trabalho não depende apenas da coleta dos dados, mas também de um tratamento estatístico adequado para levar em consideração duas variáveis externas: o viés de amostragem e a taxa de comparecimento.',\n",
       " 'O primeiro fator se refere ao fato de que as redes sociais não necessariamente representam a população americana.',\n",
       " 'A participação em redes sociais costuma ser maior nas cidades grandes, que de fato têm preferência por um dos candidatos, e o modelo deve ser corrigido para levar em consideração também a opinião das pessoas que não são ativas neste ambiente virtual.',\n",
       " 'O segundo fator se deve à não-obrigatoriedade de votação nos Estados Unidos, ou seja, por mais que uma pessoa tenha sua preferência, pode ser que ela não compareça aos locais de votação para efetivá-la.',\n",
       " 'Segundo o Dr. Makse, integrar estas duas variáveis em seu modelo é a parte mais importante do trabalho.',\n",
       " 'Ele acredita ser esta uma das razões para que as estimativas da última eleição, baseadas em métodos tradicionais de coleta de informação, terem falhado.',\n",
       " 'Sua equipe acompanhou as tendências apresentadas nas últimas eleições na Europa, e os modelos estão se revelando cada vez melhores.',\n",
       " 'Quando seu modelo foi usado para predizer os resultados da eleição corrente usando dados brutos, Joe Biden apareceu como vencedor com larga vantagem.',\n",
       " 'Após aplicar os mecanismos de correção para os dois vieses identificados, a vantagem diminuiu, mas Biden ainda é indicado como favorito.',\n",
       " 'Parece que, desta vez, os algoritmos estão de fato contribuindo para que as predições sejam mais precisas.']"
      ]
     },
     "execution_count": 26,
     "metadata": {},
     "output_type": "execute_result"
    }
   ],
   "source": [
    "sentencas_originais"
   ]
  },
  {
   "cell_type": "code",
   "execution_count": 27,
   "metadata": {
    "colab": {
     "base_uri": "https://localhost:8080/"
    },
    "id": "4C7gY7Lyz87l",
    "outputId": "b27587ce-9922-4e4d-deec-1f1969d7a8bb"
   },
   "outputs": [
    {
     "data": {
      "text/plain": [
       "['Desta vez, o modelo está treinando com cerca de 5 vezes mais dados que nas eleições americanas anteriores.',\n",
       " 'Quando seu modelo foi usado para predizer os resultados da eleição corrente usando dados brutos, Joe Biden apareceu como vencedor com larga vantagem.',\n",
       " 'No dia da eleição, 3 de novembro, o modelo estava indicando a vitória de Joe Biden.',\n",
       " 'Segundo o Dr. Makse, integrar estas duas variáveis em seu modelo é a parte mais importante do trabalho.',\n",
       " 'O modelo desenvolvido pelo Dr. Hernan Makse, físico estatístico da Universidade da Cidade de Nova York, baseou suas predições em uma rede neural treinada para processar os sentimentos expressos nas redes sociais.']"
      ]
     },
     "execution_count": 27,
     "metadata": {},
     "output_type": "execute_result"
    }
   ],
   "source": [
    "melhores_sentencas"
   ]
  },
  {
   "cell_type": "code",
   "execution_count": 28,
   "metadata": {
    "colab": {
     "base_uri": "https://localhost:8080/"
    },
    "id": "enaQoUHI0AXF",
    "outputId": "af5a93a7-c39f-42fe-9825-3628cc236950"
   },
   "outputs": [
    {
     "data": {
      "text/plain": [
       "[(0.10322707053208108,\n",
       "  'Desta vez, o modelo está treinando com cerca de 5 vezes mais dados que nas eleições americanas anteriores.'),\n",
       " (0.08467351062155114,\n",
       "  'Quando seu modelo foi usado para predizer os resultados da eleição corrente usando dados brutos, Joe Biden apareceu como vencedor com larga vantagem.'),\n",
       " (0.07824901512415162,\n",
       "  'No dia da eleição, 3 de novembro, o modelo estava indicando a vitória de Joe Biden.'),\n",
       " (0.07627442688432466,\n",
       "  'Segundo o Dr. Makse, integrar estas duas variáveis em seu modelo é a parte mais importante do trabalho.'),\n",
       " (0.07333552035097592,\n",
       "  'O modelo desenvolvido pelo Dr. Hernan Makse, físico estatístico da Universidade da Cidade de Nova York, baseou suas predições em uma rede neural treinada para processar os sentimentos expressos nas redes sociais.'),\n",
       " (0.07240389589770964,\n",
       "  'Parece que, desta vez, os algoritmos estão de fato contribuindo para que as predições sejam mais precisas.'),\n",
       " (0.06666298135659274,\n",
       "  'O Dr. Makse disse que seu trabalho começou já na eleição de 2016, e foi testado novamente nas eleições na Argentina ano passado.'),\n",
       " (0.06336431981938684,\n",
       "  'A participação em redes sociais costuma ser maior nas cidades grandes, que de fato têm preferência por um dos candidatos, e o modelo deve ser corrigido para levar em consideração também a opinião das pessoas que não são ativas neste ambiente virtual.'),\n",
       " (0.05741561693769898,\n",
       "  'Desta vez, os estatísticos reexaminaram seus modelos, para aumentar o grau de confiabilidade nos seus resultados.'),\n",
       " (0.05697801130584347,\n",
       "  'Nas eleições presidenciais americanas de 2016, a maioria das predições apontavam para a vitória de Hillary Clinton.'),\n",
       " (0.04719462160210583,\n",
       "  'O trabalho não depende apenas da coleta dos dados, mas também de um tratamento estatístico adequado para levar em consideração duas variáveis externas: o viés de amostragem e a taxa de comparecimento.'),\n",
       " (0.045755051094352545,\n",
       "  'Sua equipe acompanhou as tendências apresentadas nas últimas eleições na Europa, e os modelos estão se revelando cada vez melhores.'),\n",
       " (0.040957901824736284,\n",
       "  'O primeiro fator se refere ao fato de que as redes sociais não necessariamente representam a população americana.'),\n",
       " (0.027359424445456797,\n",
       "  'Ele acredita ser esta uma das razões para que as estimativas da última eleição, baseadas em métodos tradicionais de coleta de informação, terem falhado.'),\n",
       " (0.02674377415371308,\n",
       "  'Nesta tentativa de otimização das predições, a inteligência artificial certamente não ficou de fora.'),\n",
       " (0.024641096264236436,\n",
       "  'O algoritmo fez a análise de cerca de 1 bilhão de tweets para chegar a uma estimativa dos resultados do pleito.'),\n",
       " (0.024333336033629575,\n",
       "  'O segundo fator se deve à não-obrigatoriedade de votação nos Estados Unidos, ou seja, por mais que uma pessoa tenha sua preferência, pode ser que ela não compareça aos locais de votação para efetivá-la.'),\n",
       " (0.02216596294153566,\n",
       "  'Após aplicar os mecanismos de correção para os dois vieses identificados, a vantagem diminuiu, mas Biden ainda é indicado como favorito.'),\n",
       " (0.00826446280991742,\n",
       "  'Entretanto, a história nos mostrou o resultado oposto, e Donald Trump foi o presidente nos últimos 4 anos.')]"
      ]
     },
     "execution_count": 28,
     "metadata": {},
     "output_type": "execute_result"
    }
   ],
   "source": [
    "notas_sentencas"
   ]
  },
  {
   "cell_type": "code",
   "execution_count": 29,
   "metadata": {
    "colab": {
     "base_uri": "https://localhost:8080/",
     "height": 300
    },
    "id": "m3UMdYnc0Gwy",
    "outputId": "f332846f-2851-4771-bfeb-970d87f11d23"
   },
   "outputs": [
    {
     "data": {
      "text/html": [
       "<h1>Resumo do texto - Teste</h1>"
      ],
      "text/plain": [
       "<IPython.core.display.HTML object>"
      ]
     },
     "metadata": {},
     "output_type": "display_data"
    },
    {
     "data": {
      "text/html": [
       " Nas eleições presidenciais americanas de 2016, a maioria das predições apontavam para a vitória de Hillary Clinton.Entretanto, a história nos mostrou o resultado oposto, e Donald Trump foi o presidente nos últimos 4 anos.Desta vez, os estatísticos reexaminaram seus modelos, para aumentar o grau de confiabilidade nos seus resultados.Nesta tentativa de otimização das predições, a inteligência artificial certamente não ficou de fora.<mark>O modelo desenvolvido pelo Dr. Hernan Makse, físico estatístico da Universidade da Cidade de Nova York, baseou suas predições em uma rede neural treinada para processar os sentimentos expressos nas redes sociais.</mark>O algoritmo fez a análise de cerca de 1 bilhão de tweets para chegar a uma estimativa dos resultados do pleito.<mark>No dia da eleição, 3 de novembro, o modelo estava indicando a vitória de Joe Biden.</mark>O Dr. Makse disse que seu trabalho começou já na eleição de 2016, e foi testado novamente nas eleições na Argentina ano passado.<mark>Desta vez, o modelo está treinando com cerca de 5 vezes mais dados que nas eleições americanas anteriores.</mark>O trabalho não depende apenas da coleta dos dados, mas também de um tratamento estatístico adequado para levar em consideração duas variáveis externas: o viés de amostragem e a taxa de comparecimento.O primeiro fator se refere ao fato de que as redes sociais não necessariamente representam a população americana.A participação em redes sociais costuma ser maior nas cidades grandes, que de fato têm preferência por um dos candidatos, e o modelo deve ser corrigido para levar em consideração também a opinião das pessoas que não são ativas neste ambiente virtual.O segundo fator se deve à não-obrigatoriedade de votação nos Estados Unidos, ou seja, por mais que uma pessoa tenha sua preferência, pode ser que ela não compareça aos locais de votação para efetivá-la.<mark>Segundo o Dr. Makse, integrar estas duas variáveis em seu modelo é a parte mais importante do trabalho.</mark>Ele acredita ser esta uma das razões para que as estimativas da última eleição, baseadas em métodos tradicionais de coleta de informação, terem falhado.Sua equipe acompanhou as tendências apresentadas nas últimas eleições na Europa, e os modelos estão se revelando cada vez melhores.<mark>Quando seu modelo foi usado para predizer os resultados da eleição corrente usando dados brutos, Joe Biden apareceu como vencedor com larga vantagem.</mark>Após aplicar os mecanismos de correção para os dois vieses identificados, a vantagem diminuiu, mas Biden ainda é indicado como favorito.Parece que, desta vez, os algoritmos estão de fato contribuindo para que as predições sejam mais precisas. "
      ],
      "text/plain": [
       "<IPython.core.display.HTML object>"
      ]
     },
     "metadata": {},
     "output_type": "display_data"
    }
   ],
   "source": [
    "visualiza_resumo('Teste', sentencas_originais, melhores_sentencas)"
   ]
  },
  {
   "cell_type": "markdown",
   "metadata": {
    "id": "ChVSxfFx1k8p"
   },
   "source": [
    "## Solução para o exercício - lematização"
   ]
  },
  {
   "cell_type": "code",
   "execution_count": 30,
   "metadata": {
    "colab": {
     "base_uri": "https://localhost:8080/"
    },
    "id": "0qy5o6_G1oPU",
    "outputId": "75c41aba-c195-4730-90fb-9ad21b32ad14"
   },
   "outputs": [
    {
     "data": {
      "text/plain": [
       "<spacy.lang.pt.Portuguese at 0x7f044488e360>"
      ]
     },
     "execution_count": 30,
     "metadata": {},
     "output_type": "execute_result"
    }
   ],
   "source": [
    "pln = spacy.load(\"pt_core_news_sm\")\n",
    "pln"
   ]
  },
  {
   "cell_type": "code",
   "execution_count": 31,
   "metadata": {
    "id": "PE8dBtmO15Gs"
   },
   "outputs": [],
   "source": [
    "def preprocessamento_lematizacao(texto):\n",
    "  texto = texto.lower()\n",
    "  texto = re.sub(r\" +\", ' ', texto)\n",
    "\n",
    "  documento = pln(texto)\n",
    "  tokens = []\n",
    "  for token in documento:\n",
    "    tokens.append(token.lemma_)\n",
    "\n",
    "  tokens = [palavra for palavra in tokens if palavra not in stopwords and palavra not in string.punctuation]\n",
    "  texto_formatado = ' '.join([str(elemento) for elemento in tokens if not elemento.isdigit()])\n",
    "\n",
    "  return texto_formatado"
   ]
  },
  {
   "cell_type": "code",
   "execution_count": 32,
   "metadata": {
    "id": "XXCf0RyB1_Xm"
   },
   "outputs": [],
   "source": [
    "def sumarizar_lematizacao(texto, quantidade_sentencas):\n",
    "  sentencas_originais = [sentenca for sentenca in nltk.sent_tokenize(texto)]\n",
    "  sentencas_formatadas = [preprocessamento_lematizacao(sentenca_original) for sentenca_original in sentencas_originais]\n",
    "  matriz_similaridade = calcula_matriz_similaridade(sentencas_formatadas)\n",
    "  grafo_similaridade = nx.from_numpy_array(matriz_similaridade)\n",
    "  notas = nx.pagerank(grafo_similaridade)\n",
    "  notas_ordenadas = sorted(((notas[i], nota) for i, nota in enumerate(sentencas_originais)), reverse=True)\n",
    "  melhores_sentencas = []\n",
    "  for i in range(quantidade_sentencas):\n",
    "    melhores_sentencas.append(notas_ordenadas[i][1])\n",
    "\n",
    "  return sentencas_originais, melhores_sentencas, notas_ordenadas"
   ]
  },
  {
   "cell_type": "code",
   "execution_count": 33,
   "metadata": {
    "colab": {
     "base_uri": "https://localhost:8080/",
     "height": 122
    },
    "id": "pAKxQnbv2IRs",
    "outputId": "6763a4f8-cdd0-43c1-9c05-c0faf32d4329"
   },
   "outputs": [
    {
     "data": {
      "text/plain": [
       "'Nas eleições presidenciais americanas de 2016, a maioria das predições apontavam para a vitória de Hillary Clinton. Entretanto, a história nos mostrou o resultado oposto, e Donald Trump foi o presidente nos últimos 4 anos. Desta vez, os estatísticos reexaminaram seus modelos, para aumentar o grau de confiabilidade nos seus resultados. Nesta tentativa de otimização das predições, a inteligência artificial certamente não ficou de fora.\\n\\nO modelo desenvolvido pelo Dr. Hernan Makse, físico estatístico da Universidade da Cidade de Nova York, baseou suas predições em uma rede neural treinada para processar os sentimentos expressos nas redes sociais. O algoritmo fez a análise de cerca de 1 bilhão de tweets para chegar a uma estimativa dos resultados do pleito. No dia da eleição, 3 de novembro, o modelo estava indicando a vitória de Joe Biden.\\n\\nO Dr. Makse disse que seu trabalho começou já na eleição de 2016, e foi testado novamente nas eleições na Argentina ano passado. Desta vez, o modelo está treinando com cerca de 5 vezes mais dados que nas eleições americanas anteriores. O trabalho não depende apenas da coleta dos dados, mas também de um tratamento estatístico adequado para levar em consideração duas variáveis externas: o viés de amostragem e a taxa de comparecimento. O primeiro fator se refere ao fato de que as redes sociais não necessariamente representam a população americana. A participação em redes sociais costuma ser maior nas cidades grandes, que de fato têm preferência por um dos candidatos, e o modelo deve ser corrigido para levar em consideração também a opinião das pessoas que não são ativas neste ambiente virtual. O segundo fator se deve à não-obrigatoriedade de votação nos Estados Unidos, ou seja, por mais que uma pessoa tenha sua preferência, pode ser que ela não compareça aos locais de votação para efetivá-la. Segundo o Dr. Makse, integrar estas duas variáveis em seu modelo é a parte mais importante do trabalho. Ele acredita ser esta uma das razões para que as estimativas da última eleição, baseadas em métodos tradicionais de coleta de informação, terem falhado. Sua equipe acompanhou as tendências apresentadas nas últimas eleições na Europa, e os modelos estão se revelando cada vez melhores.\\n\\nQuando seu modelo foi usado para predizer os resultados da eleição corrente usando dados brutos, Joe Biden apareceu como vencedor com larga vantagem. Após aplicar os mecanismos de correção para os dois vieses identificados, a vantagem diminuiu, mas Biden ainda é indicado como favorito.\\n\\nParece que, desta vez, os algoritmos estão de fato contribuindo para que as predições sejam mais precisas.'"
      ]
     },
     "execution_count": 33,
     "metadata": {},
     "output_type": "execute_result"
    }
   ],
   "source": [
    "artigo.cleaned_text"
   ]
  },
  {
   "cell_type": "code",
   "execution_count": 34,
   "metadata": {
    "colab": {
     "base_uri": "https://localhost:8080/",
     "height": 300
    },
    "id": "PChlT_gB2MsD",
    "outputId": "8ec567cc-fab5-4690-ac63-ebaf59f0074f"
   },
   "outputs": [
    {
     "data": {
      "text/html": [
       "<h1>Resumo do texto - IA prevê resultado das eleições americanas</h1>"
      ],
      "text/plain": [
       "<IPython.core.display.HTML object>"
      ]
     },
     "metadata": {},
     "output_type": "display_data"
    },
    {
     "data": {
      "text/html": [
       " Nas eleições presidenciais americanas de 2016, a maioria das predições apontavam para a vitória de Hillary Clinton.Entretanto, a história nos mostrou o resultado oposto, e Donald Trump foi o presidente nos últimos 4 anos.Desta vez, os estatísticos reexaminaram seus modelos, para aumentar o grau de confiabilidade nos seus resultados.Nesta tentativa de otimização das predições, a inteligência artificial certamente não ficou de fora.<mark>O modelo desenvolvido pelo Dr. Hernan Makse, físico estatístico da Universidade da Cidade de Nova York, baseou suas predições em uma rede neural treinada para processar os sentimentos expressos nas redes sociais.</mark>O algoritmo fez a análise de cerca de 1 bilhão de tweets para chegar a uma estimativa dos resultados do pleito.<mark>No dia da eleição, 3 de novembro, o modelo estava indicando a vitória de Joe Biden.</mark>O Dr. Makse disse que seu trabalho começou já na eleição de 2016, e foi testado novamente nas eleições na Argentina ano passado.<mark>Desta vez, o modelo está treinando com cerca de 5 vezes mais dados que nas eleições americanas anteriores.</mark>O trabalho não depende apenas da coleta dos dados, mas também de um tratamento estatístico adequado para levar em consideração duas variáveis externas: o viés de amostragem e a taxa de comparecimento.O primeiro fator se refere ao fato de que as redes sociais não necessariamente representam a população americana.A participação em redes sociais costuma ser maior nas cidades grandes, que de fato têm preferência por um dos candidatos, e o modelo deve ser corrigido para levar em consideração também a opinião das pessoas que não são ativas neste ambiente virtual.O segundo fator se deve à não-obrigatoriedade de votação nos Estados Unidos, ou seja, por mais que uma pessoa tenha sua preferência, pode ser que ela não compareça aos locais de votação para efetivá-la.<mark>Segundo o Dr. Makse, integrar estas duas variáveis em seu modelo é a parte mais importante do trabalho.</mark>Ele acredita ser esta uma das razões para que as estimativas da última eleição, baseadas em métodos tradicionais de coleta de informação, terem falhado.Sua equipe acompanhou as tendências apresentadas nas últimas eleições na Europa, e os modelos estão se revelando cada vez melhores.<mark>Quando seu modelo foi usado para predizer os resultados da eleição corrente usando dados brutos, Joe Biden apareceu como vencedor com larga vantagem.</mark>Após aplicar os mecanismos de correção para os dois vieses identificados, a vantagem diminuiu, mas Biden ainda é indicado como favorito.Parece que, desta vez, os algoritmos estão de fato contribuindo para que as predições sejam mais precisas. "
      ],
      "text/plain": [
       "<IPython.core.display.HTML object>"
      ]
     },
     "metadata": {},
     "output_type": "display_data"
    }
   ],
   "source": [
    "sentencas_originais, melhores_sentencas, _ = sumarizar(artigo.cleaned_text, 5)\n",
    "visualiza_resumo(artigo.title, sentencas_originais, melhores_sentencas)"
   ]
  },
  {
   "cell_type": "code",
   "execution_count": 35,
   "metadata": {
    "colab": {
     "base_uri": "https://localhost:8080/",
     "height": 300
    },
    "id": "1nv2lGNx2YI-",
    "outputId": "5e27801e-c79e-4ee9-baa0-2015b05033c6"
   },
   "outputs": [
    {
     "data": {
      "text/html": [
       "<h1>Resumo do texto - IA prevê resultado das eleições americanas</h1>"
      ],
      "text/plain": [
       "<IPython.core.display.HTML object>"
      ]
     },
     "metadata": {},
     "output_type": "display_data"
    },
    {
     "data": {
      "text/html": [
       " <mark>Nas eleições presidenciais americanas de 2016, a maioria das predições apontavam para a vitória de Hillary Clinton.</mark>Entretanto, a história nos mostrou o resultado oposto, e Donald Trump foi o presidente nos últimos 4 anos.Desta vez, os estatísticos reexaminaram seus modelos, para aumentar o grau de confiabilidade nos seus resultados.Nesta tentativa de otimização das predições, a inteligência artificial certamente não ficou de fora.<mark>O modelo desenvolvido pelo Dr. Hernan Makse, físico estatístico da Universidade da Cidade de Nova York, baseou suas predições em uma rede neural treinada para processar os sentimentos expressos nas redes sociais.</mark>O algoritmo fez a análise de cerca de 1 bilhão de tweets para chegar a uma estimativa dos resultados do pleito.<mark>No dia da eleição, 3 de novembro, o modelo estava indicando a vitória de Joe Biden.</mark><mark>O Dr. Makse disse que seu trabalho começou já na eleição de 2016, e foi testado novamente nas eleições na Argentina ano passado.</mark>Desta vez, o modelo está treinando com cerca de 5 vezes mais dados que nas eleições americanas anteriores.O trabalho não depende apenas da coleta dos dados, mas também de um tratamento estatístico adequado para levar em consideração duas variáveis externas: o viés de amostragem e a taxa de comparecimento.O primeiro fator se refere ao fato de que as redes sociais não necessariamente representam a população americana.<mark>A participação em redes sociais costuma ser maior nas cidades grandes, que de fato têm preferência por um dos candidatos, e o modelo deve ser corrigido para levar em consideração também a opinião das pessoas que não são ativas neste ambiente virtual.</mark>O segundo fator se deve à não-obrigatoriedade de votação nos Estados Unidos, ou seja, por mais que uma pessoa tenha sua preferência, pode ser que ela não compareça aos locais de votação para efetivá-la.Segundo o Dr. Makse, integrar estas duas variáveis em seu modelo é a parte mais importante do trabalho.Ele acredita ser esta uma das razões para que as estimativas da última eleição, baseadas em métodos tradicionais de coleta de informação, terem falhado.Sua equipe acompanhou as tendências apresentadas nas últimas eleições na Europa, e os modelos estão se revelando cada vez melhores.Quando seu modelo foi usado para predizer os resultados da eleição corrente usando dados brutos, Joe Biden apareceu como vencedor com larga vantagem.Após aplicar os mecanismos de correção para os dois vieses identificados, a vantagem diminuiu, mas Biden ainda é indicado como favorito.Parece que, desta vez, os algoritmos estão de fato contribuindo para que as predições sejam mais precisas. "
      ],
      "text/plain": [
       "<IPython.core.display.HTML object>"
      ]
     },
     "metadata": {},
     "output_type": "display_data"
    }
   ],
   "source": [
    "sentencas_originais, melhores_sentencas, _ = sumarizar_lematizacao(artigo.cleaned_text, 5)\n",
    "visualiza_resumo(artigo.title, sentencas_originais, melhores_sentencas)"
   ]
  },
  {
   "cell_type": "code",
   "execution_count": null,
   "metadata": {},
   "outputs": [],
   "source": []
  }
 ],
 "metadata": {
  "colab": {
   "provenance": []
  },
  "kernelspec": {
   "display_name": "Python 3 (ipykernel)",
   "language": "python",
   "name": "python3"
  },
  "language_info": {
   "codemirror_mode": {
    "name": "ipython",
    "version": 3
   },
   "file_extension": ".py",
   "mimetype": "text/x-python",
   "name": "python",
   "nbconvert_exporter": "python",
   "pygments_lexer": "ipython3",
   "version": "3.12.8"
  }
 },
 "nbformat": 4,
 "nbformat_minor": 4
}
